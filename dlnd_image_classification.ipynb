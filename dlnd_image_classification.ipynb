{
 "cells": [
  {
   "cell_type": "markdown",
   "metadata": {
    "collapsed": true,
    "deletable": true,
    "editable": true
   },
   "source": [
    "# Image Classification\n",
    "In this project, you'll classify images from the [CIFAR-10 dataset](https://www.cs.toronto.edu/~kriz/cifar.html).  The dataset consists of airplanes, dogs, cats, and other objects. You'll preprocess the images, then train a convolutional neural network on all the samples. The images need to be normalized and the labels need to be one-hot encoded.  You'll get to apply what you learned and build a convolutional, max pooling, dropout, and fully connected layers.  At the end, you'll get to see your neural network's predictions on the sample images.\n",
    "## Get the Data\n",
    "Run the following cell to download the [CIFAR-10 dataset for python](https://www.cs.toronto.edu/~kriz/cifar-10-python.tar.gz)."
   ]
  },
  {
   "cell_type": "code",
   "execution_count": 1,
   "metadata": {
    "collapsed": false,
    "deletable": true,
    "editable": true
   },
   "outputs": [
    {
     "name": "stdout",
     "output_type": "stream",
     "text": [
      "All files found!\n"
     ]
    }
   ],
   "source": [
    "\"\"\"\n",
    "DON'T MODIFY ANYTHING IN THIS CELL THAT IS BELOW THIS LINE\n",
    "\"\"\"\n",
    "from urllib.request import urlretrieve\n",
    "from os.path import isfile, isdir\n",
    "from tqdm import tqdm\n",
    "import problem_unittests as tests\n",
    "import tarfile\n",
    "\n",
    "cifar10_dataset_folder_path = 'cifar-10-batches-py'\n",
    "\n",
    "class DLProgress(tqdm):\n",
    "    last_block = 0\n",
    "\n",
    "    def hook(self, block_num=1, block_size=1, total_size=None):\n",
    "        self.total = total_size\n",
    "        self.update((block_num - self.last_block) * block_size)\n",
    "        self.last_block = block_num\n",
    "\n",
    "if not isfile('cifar-10-python.tar.gz'):\n",
    "    with DLProgress(unit='B', unit_scale=True, miniters=1, desc='CIFAR-10 Dataset') as pbar:\n",
    "        urlretrieve(\n",
    "            'https://www.cs.toronto.edu/~kriz/cifar-10-python.tar.gz',\n",
    "            'cifar-10-python.tar.gz',\n",
    "            pbar.hook)\n",
    "\n",
    "if not isdir(cifar10_dataset_folder_path):\n",
    "    with tarfile.open('cifar-10-python.tar.gz') as tar:\n",
    "        tar.extractall()\n",
    "        tar.close()\n",
    "\n",
    "\n",
    "tests.test_folder_path(cifar10_dataset_folder_path)"
   ]
  },
  {
   "cell_type": "markdown",
   "metadata": {
    "deletable": true,
    "editable": true
   },
   "source": [
    "## Explore the Data\n",
    "The dataset is broken into batches to prevent your machine from running out of memory.  The CIFAR-10 dataset consists of 5 batches, named `data_batch_1`, `data_batch_2`, etc.. Each batch contains the labels and images that are one of the following:\n",
    "* airplane\n",
    "* automobile\n",
    "* bird\n",
    "* cat\n",
    "* deer\n",
    "* dog\n",
    "* frog\n",
    "* horse\n",
    "* ship\n",
    "* truck\n",
    "\n",
    "Understanding a dataset is part of making predictions on the data.  Play around with the code cell below by changing the `batch_id` and `sample_id`. The `batch_id` is the id for a batch (1-5). The `sample_id` is the id for a image and label pair in the batch.\n",
    "\n",
    "Ask yourself \"What are all possible labels?\", \"What is the range of values for the image data?\", \"Are the labels in order or random?\".  Answers to questions like these will help you preprocess the data and end up with better predictions."
   ]
  },
  {
   "cell_type": "code",
   "execution_count": 2,
   "metadata": {
    "collapsed": false,
    "deletable": true,
    "editable": true
   },
   "outputs": [
    {
     "name": "stdout",
     "output_type": "stream",
     "text": [
      "\n",
      "Stats of batch 1:\n",
      "Samples: 10000\n",
      "Label Counts: {0: 1005, 1: 974, 2: 1032, 3: 1016, 4: 999, 5: 937, 6: 1030, 7: 1001, 8: 1025, 9: 981}\n",
      "First 20 Labels: [6, 9, 9, 4, 1, 1, 2, 7, 8, 3, 4, 7, 7, 2, 9, 9, 9, 3, 2, 6]\n",
      "\n",
      "Example of Image 5:\n",
      "Image - Min Value: 0 Max Value: 252\n",
      "Image - Shape: (32, 32, 3)\n",
      "Label - Label Id: 1 Name: automobile\n"
     ]
    },
    {
     "data": {
      "image/png": "[encoded data removed]",
      "text/plain": [
       "<matplotlib.figure.Figure at 0x7f7c4e73db70>"
      ]
     },
     "metadata": {
      "image/png": {
       "height": 250,
       "width": 253
      }
     },
     "output_type": "display_data"
    }
   ],
   "source": [
    "%matplotlib inline\n",
    "%config InlineBackend.figure_format = 'retina'\n",
    "\n",
    "import helper\n",
    "import numpy as np\n",
    "\n",
    "# Explore the dataset\n",
    "batch_id = 1\n",
    "sample_id = 5\n",
    "helper.display_stats(cifar10_dataset_folder_path, batch_id, sample_id)"
   ]
  },
  {
   "cell_type": "markdown",
   "metadata": {
    "deletable": true,
    "editable": true
   },
   "source": [
    "## Implement Preprocess Functions\n",
    "### Normalize\n",
    "In the cell below, implement the `normalize` function to take in image data, `x`, and return it as a normalized Numpy array. The values should be in the range of 0 to 1, inclusive.  The return object should be the same shape as `x`."
   ]
  },
  {
   "cell_type": "code",
   "execution_count": 3,
   "metadata": {
    "collapsed": false,
    "deletable": true,
    "editable": true
   },
   "outputs": [
    {
     "name": "stdout",
     "output_type": "stream",
     "text": [
      "Tests Passed\n"
     ]
    }
   ],
   "source": [
    "def normalize(x):\n",
    "    \"\"\"\n",
    "    Normalize a list of sample image data in the range of 0 to 1\n",
    "    : x: Li|st of image data.  The image shape is (32, 32, 3)\n",
    "    : return: Numpy array of normalize data\n",
    "    \"\"\"\n",
    "    return np.array(x / x.max())\n",
    "\n",
    "\n",
    "\"\"\"\n",
    "DON'T MODIFY ANYTHING IN THIS CELL THAT IS BELOW THIS LINE\n",
    "\"\"\"\n",
    "tests.test_normalize(normalize)"
   ]
  },
  {
   "cell_type": "markdown",
   "metadata": {
    "deletable": true,
    "editable": true
   },
   "source": [
    "### One-hot encode\n",
    "Just like the previous code cell, you'll be implementing a function for preprocessing.  This time, you'll implement the `one_hot_encode` function. The input, `x`, are a list of labels.  Implement the function to return the list of labels as One-Hot encoded Numpy array.  The possible values for labels are 0 to 9. The one-hot encoding function should return the same encoding for each value between each call to `one_hot_encode`.  Make sure to save the map of encodings outside the function.\n",
    "\n",
    "Hint: Don't reinvent the wheel."
   ]
  },
  {
   "cell_type": "code",
   "execution_count": 4,
   "metadata": {
    "collapsed": false,
    "deletable": true,
    "editable": true
   },
   "outputs": [
    {
     "name": "stdout",
     "output_type": "stream",
     "text": [
      "Tests Passed\n"
     ]
    }
   ],
   "source": [
    "from sklearn import preprocessing\n",
    "\n",
    "def one_hot_encode(x):\n",
    "    \"\"\"\n",
    "    One hot encode a list of sample labels. Return a one-hot encoded vector for each label.\n",
    "    : x: List of sample Labels\n",
    "    : return: Numpy array of one-hot encoded labels\n",
    "    \"\"\"\n",
    "    # TODO: Implement Function\n",
    "    lb = preprocessing.LabelBinarizer()\n",
    "    lb.fit(x)\n",
    "    lb.classes_ = [0,1,2,3,4,5,6,7,8,9]\n",
    "    \n",
    "    return lb.transform(x)\n",
    "\n",
    "\n",
    "\"\"\"\n",
    "DON'T MODIFY ANYTHING IN THIS CELL THAT IS BELOW THIS LINE\n",
    "\"\"\"\n",
    "tests.test_one_hot_encode(one_hot_encode)"
   ]
  },
  {
   "cell_type": "markdown",
   "metadata": {
    "deletable": true,
    "editable": true
   },
   "source": [
    "### Randomize Data\n",
    "As you saw from exploring the data above, the order of the samples are randomized.  It doesn't hurt to randomize it again, but you don't need to for this dataset."
   ]
  },
  {
   "cell_type": "markdown",
   "metadata": {
    "deletable": true,
    "editable": true
   },
   "source": [
    "## Preprocess all the data and save it\n",
    "Running the code cell below will preprocess all the CIFAR-10 data and save it to file. The code below also uses 10% of the training data for validation."
   ]
  },
  {
   "cell_type": "code",
   "execution_count": 5,
   "metadata": {
    "collapsed": false,
    "deletable": true,
    "editable": true
   },
   "outputs": [],
   "source": [
    "\"\"\"\n",
    "DON'T MODIFY ANYTHING IN THIS CELL\n",
    "\"\"\"\n",
    "# Preprocess Training, Validation, and Testing Data\n",
    "helper.preprocess_and_save_data(cifar10_dataset_folder_path, normalize, one_hot_encode)"
   ]
  },
  {
   "cell_type": "markdown",
   "metadata": {
    "deletable": true,
    "editable": true
   },
   "source": [
    "# Check Point\n",
    "This is your first checkpoint.  If you ever decide to come back to this notebook or have to restart the notebook, you can start from here.  The preprocessed data has been saved to disk."
   ]
  },
  {
   "cell_type": "code",
   "execution_count": 6,
   "metadata": {
    "collapsed": false,
    "deletable": true,
    "editable": true
   },
   "outputs": [
    {
     "ename": "SyntaxError",
     "evalue": "invalid syntax (<ipython-input-6-a0e32ae72c37>, line 3)",
     "output_type": "error",
     "traceback": [
      "\u001b[0;36m  File \u001b[0;32m\"<ipython-input-6-a0e32ae72c37>\"\u001b[0;36m, line \u001b[0;32m3\u001b[0m\n\u001b[0;31m    For the neural network, you'll build each layer into a function.  Most of the code you've seen has been outside of functions. To test your code more thoroughly, we require that you put each layer in a function.  This allows us to give you better feedback and test for simple mistakes using our unittests before you submit your project.\u001b[0m\n\u001b[0m          ^\u001b[0m\n\u001b[0;31mSyntaxError\u001b[0m\u001b[0;31m:\u001b[0m invalid syntax\n"
     ]
    }
   ],
   "source": [
    "# Build the network\n",
    "## Build the network\n",
    "For the neural network, you'll build each layer into a function.  Most of the code you've seen has been outside of functions. To test your code more thoroughly, we require that you put each layer in a function.  This allows us to give you better feedback and test for simple mistakes using our unittests before you submit your project.\n",
    "\n",
    ">**Note:** If you're finding it hard to dedicate enough time for this course each week, we've provided a small shortcut to this part of the project. In the next couple of problems, you'll have the option to use classes from the [TensorFlow Layers](https://www.tensorflow.org/api_docs/python/tf/layers) or [TensorFlow Layers (contrib)](https://www.tensorflow.org/api_guides/python/contrib.layers) packages to build each layer, except the layers you build in the \"Convolutional and Max Pooling Layer\" section.  TF Layers is similar to Keras's and TFLearn's abstraction to layers, so it's easy to pickup.\n",
    "\n",
    ">However, if you would like to get the most out of this course, try to solve all the problems _without_ using anything from the TF Layers packages. You **can** still use classes from other packages that happen to have the same name as ones you find in TF Layers! For example, instead of using the TF Layers version of the `conv2d` class, [tf.layers.conv2d](https://www.tensorflow.org/api_docs/python/tf/layers/conv2d), you would want to use the TF Neural Network version of `conv2d`, [tf.nn.conv2d](https://www.tensorflow.org/api_docs/python/tf/nn/conv2d). \n",
    "\n",
    "Let's begin!\n",
    "\n",
    "### Input\n",
    "The neural network needs to read the image data, one-hot encoded labels, and dropout keep probability. Implement the following functions\n",
    "* Implement `neural_net_image_input`\n",
    " * Return a [TF Placeholder](https://www.tensorflow.org/api_docs/python/tf/placeholder)\n",
    " * Set the shape using `image_shape` with batch size set to `None`.\n",
    " * Name the TensorFlow placeholder \"x\" using the TensorFlow `name` parameter in the [TF Placeholder](https://www.tensorflow.org/api_docs/python/tf/placeholder).\n",
    "* Implement `neural_net_label_input`\n",
    " * Return a [TF Placeholder](https://www.tensorflow.org/api_docs/python/tf/placeholder)\n",
    " * Set the shape using `n_classes` with batch size set to `None`.\n",
    " * Name the TensorFlow placeholder \"y\" using the TensorFlow `name` parameter in the [TF Placeholder](https://www.tensorflow.org/api_docs/python/tf/placeholder).\n",
    "* Implement `neural_net_keep_prob_input`\n",
    " * Return a [TF Placeholder](https://www.tensorflow.org/api_docs/python/tf/placeholder) for dropout keep probability.\n",
    " * Name the TensorFlow placeholder \"keep_prob\" using the TensorFlow `name` parameter in the [TF Placeholder](https://www.tensorflow.org/api_docs/python/tf/placeholder).\n",
    "\n",
    "These names will be used at the end of the project to load your saved model.\n",
    "\n",
    "Note: `None` for shapes in TensorFlow allow for a dynamic size."
   ]
  },
  {
   "cell_type": "code",
   "execution_count": 7,
   "metadata": {
    "collapsed": true,
    "deletable": true,
    "editable": true
   },
   "outputs": [],
   "source": [
    "\"\"\"\n",
    "DON'T MODIFY ANYTHING IN THIS CELL\n",
    "\"\"\"\n",
    "import pickle\n",
    "import problem_unittests as tests\n",
    "import helper\n",
    "\n",
    "# Load the Preprocessed Validation data\n",
    "valid_features, valid_labels = pickle.load(open('preprocess_validation.p', mode='rb'))"
   ]
  },
  {
   "cell_type": "code",
   "execution_count": 8,
   "metadata": {
    "collapsed": false,
    "deletable": true,
    "editable": true
   },
   "outputs": [
    {
     "name": "stdout",
     "output_type": "stream",
     "text": [
      "Image Input Tests Passed.\n",
      "Label Input Tests Passed.\n",
      "Keep Prob Tests Passed.\n"
     ]
    }
   ],
   "source": [
    "import tensorflow as tf\n",
    "\n",
    "\n",
    "def neural_net_image_input(image_shape):\n",
    "    \"\"\"\n",
    "    Return a Tensor for a bach of image input\n",
    "    : image_shape: Shape of the images\n",
    "    : return: Tensor for image input.\n",
    "    \"\"\"\n",
    "    # TODO: Implement Function\n",
    "    x = tf.placeholder(tf.float32, shape=[None] + list(image_shape), name=\"x\") \n",
    "    return x\n",
    "\n",
    "\n",
    "def neural_net_label_input(n_classes):\n",
    "    \"\"\"\n",
    "    Return a Tensor for a batch of label input\n",
    "    : n_classes: Number of classes\n",
    "    : return: Tensor for label input.\n",
    "    \"\"\"\n",
    "    # TODO: Implement Function\n",
    "    y = tf.placeholder(tf.float32, shape = [None , n_classes], name=\"y\")\n",
    "    return y\n",
    "\n",
    "\n",
    "\n",
    "def neural_net_keep_prob_input():\n",
    "    \"\"\"\n",
    "    Return a Tensor for keep probability\n",
    "    : return: Tensor for keep probability.\n",
    "    \"\"\"\n",
    "    # TODO: Implement Function\n",
    "    return tf.placeholder(tf.float32, name=\"keep_prob\")\n",
    "\n",
    "\n",
    "\"\"\"\n",
    "DON'T MODIFY ANYTHING IN THIS CELL THAT IS BELOW THIS LINE\n",
    "\"\"\"\n",
    "tf.reset_default_graph()\n",
    "tests.test_nn_image_inputs(neural_net_image_input)\n",
    "tests.test_nn_label_inputs(neural_net_label_input)\n",
    "tests.test_nn_keep_prob_inputs(neural_net_keep_prob_input)"
   ]
  },
  {
   "cell_type": "markdown",
   "metadata": {
    "deletable": true,
    "editable": true
   },
   "source": [
    "### Convolution and Max Pooling Layer\n",
    "Convolution layers have a lot of success with images. For this code cell, you should implement the function `conv2d_maxpool` to apply convolution then max pooling:\n",
    "* Create the weight and bias using `conv_ksize`, `conv_num_outputs` and the shape of `x_tensor`.\n",
    "* Apply a convolution to `x_tensor` using weight and `conv_strides`.\n",
    " * We recommend you use same padding, but you're welcome to use any padding.\n",
    "* Add bias\n",
    "* Add a nonlinear activation to the convolution.\n",
    "* Apply Max Pooling using `pool_ksize` and `pool_strides`.\n",
    " * We recommend you use same padding, but you're welcome to use any padding.\n",
    "\n",
    "**Note:** You **can't** use [TensorFlow Layers](https://www.tensorflow.org/api_docs/python/tf/layers) or [TensorFlow Layers (contrib)](https://www.tensorflow.org/api_guides/python/contrib.layers) for **this** layer, but you can still use TensorFlow's [Neural Network](https://www.tensorflow.org/api_docs/python/tf/nn) package. You may still use the shortcut option for all the **other** layers."
   ]
  },
  {
   "cell_type": "code",
   "execution_count": 9,
   "metadata": {
    "collapsed": false,
    "deletable": true,
    "editable": true
   },
   "outputs": [
    {
     "name": "stdout",
     "output_type": "stream",
     "text": [
      "Tests Passed\n"
     ]
    }
   ],
   "source": [
    "def conv2d_maxpool(x_tensor, conv_num_outputs, conv_ksize, conv_strides, pool_ksize, pool_strides):\n",
    "    \"\"\"\n",
    "    Apply convolution then max pooling to x_tensor\n",
    "    :param x_tensor: TensorFlow Tensor\n",
    "    :param conv_num_outputs: Number of outputs for the convolutional layer\n",
    "    :param conv_ksize: kernal size 2-D Tuple for the convolutional layer\n",
    "    :param conv_strides: Stride 2-D Tuple for convolution\n",
    "    :param pool_ksize: kernal size 2-D Tuple for pool\n",
    "    :param pool_strides: Stride 2-D Tuple for pool\n",
    "    : return: A tensor that represents convolution and max pooling of x_tensor\n",
    "    \"\"\"\n",
    "    # TODO: Implement Function\n",
    "    w = tf.Variable(tf.truncated_normal([conv_ksize[0], conv_ksize[1],\\\n",
    "                                        x_tensor.get_shape().as_list()[3],conv_num_outputs ], mean=0.0,stddev=0.1))\n",
    "    b = tf.Variable(tf.zeros(conv_num_outputs))\n",
    "    layer = tf.nn.conv2d(x_tensor, w, strides = [1,conv_strides[0],conv_strides[1],1], padding='SAME')\n",
    "    layer = tf.nn.bias_add(layer, b)\n",
    "    layer = tf.nn.relu(layer)\n",
    "    return tf.nn.max_pool(layer, ksize = [1,pool_ksize[0], pool_ksize[1],1], strides = [1, pool_strides[0], pool_strides[1], 1], padding = 'SAME') \n",
    "\n",
    "\n",
    "\"\"\"\n",
    "DON'T MODIFY ANYTHING IN THIS CELL THAT IS BELOW THIS LINE\n",
    "\"\"\"\n",
    "tests.test_con_pool(conv2d_maxpool)"
   ]
  },
  {
   "cell_type": "markdown",
   "metadata": {
    "deletable": true,
    "editable": true
   },
   "source": [
    "### Flatten Layer\n",
    "Implement the `flatten` function to change the dimension of `x_tensor` from a 4-D tensor to a 2-D tensor.  The output should be the shape (*Batch Size*, *Flattened Image Size*). Shortcut option: you can use classes from the [TensorFlow Layers](https://www.tensorflow.org/api_docs/python/tf/layers) or [TensorFlow Layers (contrib)](https://www.tensorflow.org/api_guides/python/contrib.layers) packages for this layer. For more of a challenge, only use other TensorFlow packages."
   ]
  },
  {
   "cell_type": "code",
   "execution_count": 10,
   "metadata": {
    "collapsed": false,
    "deletable": true,
    "editable": true
   },
   "outputs": [
    {
     "name": "stdout",
     "output_type": "stream",
     "text": [
      "Tests Passed\n"
     ]
    }
   ],
   "source": [
    "def flatten(x_tensor):\n",
    "    \"\"\"\n",
    "    Flatten x_tensor to (Batch Size, Flattened Image Size)\n",
    "    : x_tensor: A tensor of size (Batch Size, ...), where ... are the image dimensions.\n",
    "    : return: A tensor of size (Batch Size, Flattened Image Size).\n",
    "    \"\"\"\n",
    "    # TODO: Implement Function\n",
    "    return tf.reshape(x_tensor, [-1, x_tensor.get_shape().as_list()[1] * x_tensor.get_shape().as_list()[2] * x_tensor.get_shape().as_list()[3]])\n",
    "\n",
    "\n",
    "\"\"\"\n",
    "DON'T MODIFY ANYTHING IN THIS CELL THAT IS BELOW THIS LINE\n",
    "\"\"\"\n",
    "tests.test_flatten(flatten)"
   ]
  },
  {
   "cell_type": "markdown",
   "metadata": {
    "deletable": true,
    "editable": true
   },
   "source": [
    "### Fully-Connected Layer\n",
    "Implement the `fully_conn` function to apply a fully connected layer to `x_tensor` with the shape (*Batch Size*, *num_outputs*). Shortcut option: you can use classes from the [TensorFlow Layers](https://www.tensorflow.org/api_docs/python/tf/layers) or [TensorFlow Layers (contrib)](https://www.tensorflow.org/api_guides/python/contrib.layers) packages for this layer. For more of a challenge, only use other TensorFlow packages."
   ]
  },
  {
   "cell_type": "code",
   "execution_count": 11,
   "metadata": {
    "collapsed": false,
    "deletable": true,
    "editable": true
   },
   "outputs": [
    {
     "name": "stdout",
     "output_type": "stream",
     "text": [
      "Tests Passed\n"
     ]
    }
   ],
   "source": [
    "def fully_conn(x_tensor, num_outputs):\n",
    "    \"\"\"\n",
    "    Apply a fully connected layer to x_tensor using weight and bias\n",
    "    : x_tensor: A 2-D tensor where the first dimension is batch size.\n",
    "    : num_outputs: The number of output that the new tensor should be.\n",
    "    : return: A 2-D tensor where the second dimension is num_outputs.\n",
    "    \"\"\"\n",
    "    # TODO: Implement Function\n",
    "    return tf.contrib.layers.fully_connected(x_tensor, num_outputs, activation_fn = tf.nn.relu)\n",
    "\n",
    "\n",
    "\"\"\"\n",
    "DON'T MODIFY ANYTHING IN THIS CELL THAT IS BELOW THIS LINE\n",
    "\"\"\"\n",
    "tests.test_fully_conn(fully_conn)"
   ]
  },
  {
   "cell_type": "markdown",
   "metadata": {
    "deletable": true,
    "editable": true
   },
   "source": [
    "### Output Layer\n",
    "Implement the `output` function to apply a fully connected layer to `x_tensor` with the shape (*Batch Size*, *num_outputs*). Shortcut option: you can use classes from the [TensorFlow Layers](https://www.tensorflow.org/api_docs/python/tf/layers) or [TensorFlow Layers (contrib)](https://www.tensorflow.org/api_guides/python/contrib.layers) packages for this layer. For more of a challenge, only use other TensorFlow packages.\n",
    "\n",
    "**Note:** Activation, softmax, or cross entropy should **not** be applied to this."
   ]
  },
  {
   "cell_type": "code",
   "execution_count": 14,
   "metadata": {
    "collapsed": false,
    "deletable": true,
    "editable": true
   },
   "outputs": [
    {
     "name": "stdout",
     "output_type": "stream",
     "text": [
      "Tests Passed\n"
     ]
    }
   ],
   "source": [
    "def output(x_tensor, num_outputs):\n",
    "    \"\"\"\n",
    "    Apply a output layer to x_tensor using weight and bias\n",
    "    : x_tensor: A 2-D tensor where the first dimension is batch size.\n",
    "    : num_outputs: The number of output that the new tensor should be.\n",
    "    : return: A 2-D tensor where the second dimension is num_outputs.\n",
    "    \"\"\"\n",
    "    # TODO: Implement Function\n",
    "    return tf.contrib.layers.fully_connected(x_tensor, num_outputs, activation_fn = None)\n",
    "\n",
    "\n",
    "\"\"\"\n",
    "DON'T MODIFY ANYTHING IN THIS CELL THAT IS BELOW THIS LINE\n",
    "\"\"\"\n",
    "tests.test_output(output)"
   ]
  },
  {
   "cell_type": "markdown",
   "metadata": {
    "deletable": true,
    "editable": true
   },
   "source": [
    "### Create Convolutional Model\n",
    "Implement the function `conv_net` to create a convolutional neural network model. The function takes in a batch of images, `x`, and outputs logits.  Use the layers you created above to create this model:\n",
    "\n",
    "* Apply 1, 2, or 3 Convolution and Max Pool layers\n",
    "* Apply a Flatten Layer\n",
    "* Apply 1, 2, or 3 Fully Connected Layers\n",
    "* Apply an Output Layer\n",
    "* Return the output\n",
    "* Apply [TensorFlow's Dropout](https://www.tensorflow.org/api_docs/python/tf/nn/dropout) to one or more layers in the model using `keep_prob`. "
   ]
  },
  {
   "cell_type": "code",
   "execution_count": 18,
   "metadata": {
    "collapsed": false,
    "deletable": true,
    "editable": true
   },
   "outputs": [
    {
     "name": "stdout",
     "output_type": "stream",
     "text": [
      "Neural Network Built!\n"
     ]
    }
   ],
   "source": [
    "def conv_net(x, keep_prob):\n",
    "    \"\"\"\n",
    "    Create a convolutional neural network model\n",
    "    : x: Placeholder tensor that holds image data.\n",
    "    : keep_prob: Placeholder tensor that hold dropout keep probability.\n",
    "    : return: Tensor that represents logits\n",
    "    \"\"\"\n",
    "    # TODO: Apply 1, 2, or 3 Convolution and Max Pool layers\n",
    "    #    Play around with different number of outputs, kernel size and stride\n",
    "    # Function Definition from Above:\n",
    "    #    conv2d_maxpool(x_tensor, conv_num_outputs, conv_ksize, conv_strides, pool_ksize, pool_strides)\n",
    "    \n",
    "    conv_num_outputs = 16\n",
    "    conv_ksize = (2,2)\n",
    "    conv_strides = (1,1)\n",
    "    pool_ksize = (2,2)\n",
    "    pool_strides = (1,1)\n",
    "    \n",
    "    layer = conv2d_maxpool(x, conv_num_outputs, conv_ksize, conv_strides, pool_ksize, pool_strides)\n",
    "    conv_num_outputs = 32\n",
    "    layer = conv2d_maxpool(layer, conv_num_outputs, conv_ksize, conv_strides, pool_ksize, pool_strides)\n",
    "    # TODO: Apply a Flatten Layer\n",
    "    # Function Definition from Above:\n",
    "    #   flatten(x_tensor)\n",
    "    layer = flatten(layer)\n",
    "\n",
    "    # TODO: Apply 1, 2, or 3 Fully Connected Layers\n",
    "    #    Play around with different number of outputs\n",
    "    # Function Definition from Above:\n",
    "    #   fully_conn(x_tensor, num_outputs)\n",
    "    \n",
    "    num_outputs = 128\n",
    "    layer = fully_conn(layer, num_outputs)\n",
    "    layer = tf.nn.dropout(layer, keep_prob)\n",
    "    layer = fully_conn(layer, num_outputs)\n",
    "    #    Set this to the number of classes\n",
    "    # Function Definition from Above:\n",
    "    #   output(x_tensor, num_outputs)\n",
    "    \n",
    "    \n",
    "    num_outputs = 10\n",
    "    layer = output(layer, num_outputs)\n",
    "    # TODO: return output\n",
    "    return layer\n",
    "\n",
    "\n",
    "\"\"\"\n",
    "DON'T MODIFY ANYTHING IN THIS CELL THAT IS BELOW THIS LINE\n",
    "\"\"\"\n",
    "\n",
    "##############################\n",
    "## Build the Neural Network ##\n",
    "##############################\n",
    "\n",
    "# Remove previous weights, bias, inputs, etc..\n",
    "tf.reset_default_graph()\n",
    "\n",
    "# Inputs\n",
    "x = neural_net_image_input((32, 32, 3))\n",
    "y = neural_net_label_input(10)\n",
    "keep_prob = neural_net_keep_prob_input()\n",
    "\n",
    "# Model\n",
    "logits = conv_net(x, keep_prob)\n",
    "\n",
    "# Name logits Tensor, so that is can be loaded from disk after training\n",
    "logits = tf.identity(logits, name='logits')\n",
    "\n",
    "# Loss and Optimizer\n",
    "cost = tf.reduce_mean(tf.nn.softmax_cross_entropy_with_logits(logits=logits, labels=y))\n",
    "optimizer = tf.train.AdamOptimizer().minimize(cost)\n",
    "\n",
    "# Accuracy\n",
    "correct_pred = tf.equal(tf.argmax(logits, 1), tf.argmax(y, 1))\n",
    "accuracy = tf.reduce_mean(tf.cast(correct_pred, tf.float32), name='accuracy')\n",
    "\n",
    "tests.test_conv_net(conv_net)"
   ]
  },
  {
   "cell_type": "markdown",
   "metadata": {
    "deletable": true,
    "editable": true
   },
   "source": [
    "## Train the Neural Network\n",
    "### Single Optimization\n",
    "Implement the function `train_neural_network` to do a single optimization.  The optimization should use `optimizer` to optimize in `session` with a `feed_dict` of the following:\n",
    "* `x` for image input\n",
    "* `y` for labels\n",
    "* `keep_prob` for keep probability for dropout\n",
    "\n",
    "This function will be called for each batch, so `tf.global_variables_initializer()` has already been called.\n",
    "\n",
    "Note: Nothing needs to be returned. This function is only optimizing the neural network."
   ]
  },
  {
   "cell_type": "code",
   "execution_count": 19,
   "metadata": {
    "collapsed": false,
    "deletable": true,
    "editable": true
   },
   "outputs": [
    {
     "name": "stdout",
     "output_type": "stream",
     "text": [
      "Tests Passed\n"
     ]
    }
   ],
   "source": [
    "def train_neural_network(session, optimizer, keep_probability, feature_batch, label_batch):\n",
    "    \"\"\"\n",
    "    Optimize the session on a batch of images and labels\n",
    "    : session: Current TensorFlow session\n",
    "    : optimizer: TensorFlow optimizer function\n",
    "    : keep_probability: keep probability\n",
    "    : feature_batch: Batch of Numpy image data\n",
    "    : label_batch: Batch of Numpy label data\n",
    "    \"\"\"\n",
    "    # TODO: Implement Function\n",
    "    session.run(optimizer, feed_dict={x:feature_batch, y: label_batch, keep_prob:  keep_probability })\n",
    "    pass\n",
    "\n",
    "\n",
    "\"\"\"\n",
    "DON'T MODIFY ANYTHING IN THIS CELL THAT IS BELOW THIS LINE\n",
    "\"\"\"\n",
    "tests.test_train_nn(train_neural_network)"
   ]
  },
  {
   "cell_type": "markdown",
   "metadata": {
    "deletable": true,
    "editable": true
   },
   "source": [
    "### Show Stats\n",
    "Implement the function `print_stats` to print loss and validation accuracy.  Use the global variables `valid_features` and `valid_labels` to calculate validation accuracy.  Use a keep probability of `1.0` to calculate the loss and validation accuracy."
   ]
  },
  {
   "cell_type": "code",
   "execution_count": 28,
   "metadata": {
    "collapsed": false,
    "deletable": true,
    "editable": true
   },
   "outputs": [],
   "source": [
    "def print_stats(session, feature_batch, label_batch, cost, accuracy):\n",
    "    \"\"\"\n",
    "    Print information about loss and validation accuracy\n",
    "    : session: Current TensorFlow session\n",
    "    : feature_batch: Batch of Numpy image data\n",
    "    : label_batch: Batch of Numpy label data\n",
    "    : cost: TensorFlow cost function\n",
    "    : accuracy: TensorFlow accuracy function\n",
    "    \"\"\"\n",
    "    # TODO: Implement Function\n",
    "    \n",
    "    loss = session.run(cost, feed_dict={x:feature_batch, y:label_batch, keep_prob:  1.0  })\n",
    "    acc = session.run(accuracy, feed_dict={x:valid_features, y:valid_labels , keep_prob:  1.0 })\n",
    "    print(\"Loss: {}\".format(loss))\n",
    "    print(\"Accuracy: {}\".format(acc))\n",
    "    pass"
   ]
  },
  {
   "cell_type": "markdown",
   "metadata": {
    "deletable": true,
    "editable": true
   },
   "source": [
    "### Hyperparameters\n",
    "Tune the following parameters:\n",
    "* Set `epochs` to the number of iterations until the network stops learning or start overfitting\n",
    "* Set `batch_size` to the highest number that your machine has memory for.  Most people set them to common sizes of memory:\n",
    " * 64\n",
    " * 128\n",
    " * 256\n",
    " * ...\n",
    "* Set `keep_probability` to the probability of keeping a node using dropout"
   ]
  },
  {
   "cell_type": "code",
   "execution_count": 29,
   "metadata": {
    "collapsed": true,
    "deletable": true,
    "editable": true
   },
   "outputs": [],
   "source": [
    "# TODO: Tune Parameters\n",
    "epochs = 40\n",
    "batch_size = 128\n",
    "keep_probability = 0.5"
   ]
  },
  {
   "cell_type": "markdown",
   "metadata": {
    "deletable": true,
    "editable": true
   },
   "source": [
    "### Train on a Single CIFAR-10 Batch\n",
    "Instead of training the neural network on all the CIFAR-10 batches of data, let's use a single batch. This should save time while you iterate on the model to get a better accuracy.  Once the final validation accuracy is 50% or greater, run the model on all the data in the next section."
   ]
  },
  {
   "cell_type": "code",
   "execution_count": 33,
   "metadata": {
    "collapsed": false,
    "deletable": true,
    "editable": true
   },
   "outputs": [
    {
     "name": "stdout",
     "output_type": "stream",
     "text": [
      "Checking the Training on a Single Batch...\n",
      "Epoch  1, CIFAR-10 Batch 1:  Loss: 2.0055091381073\n",
      "Accuracy: 0.3505999743938446\n",
      "Epoch  2, CIFAR-10 Batch 1:  Loss: 1.7377219200134277\n",
      "Accuracy: 0.42179998755455017\n",
      "Epoch  3, CIFAR-10 Batch 1:  Loss: 1.5757814645767212\n",
      "Accuracy: 0.43119996786117554\n",
      "Epoch  4, CIFAR-10 Batch 1:  Loss: 1.4603044986724854\n",
      "Accuracy: 0.47199997305870056\n",
      "Epoch  5, CIFAR-10 Batch 1:  Loss: 1.2890019416809082\n",
      "Accuracy: 0.5119999647140503\n",
      "Epoch  6, CIFAR-10 Batch 1:  Loss: 1.1522325277328491\n",
      "Accuracy: 0.5341999530792236\n",
      "Epoch  7, CIFAR-10 Batch 1:  Loss: 1.0210635662078857\n",
      "Accuracy: 0.5403999090194702\n",
      "Epoch  8, CIFAR-10 Batch 1:  Loss: 0.9750951528549194\n",
      "Accuracy: 0.538599967956543\n",
      "Epoch  9, CIFAR-10 Batch 1:  Loss: 0.8487918376922607\n",
      "Accuracy: 0.5455999374389648\n",
      "Epoch 10, CIFAR-10 Batch 1:  Loss: 0.7951163053512573\n",
      "Accuracy: 0.5477998852729797\n",
      "Epoch 11, CIFAR-10 Batch 1:  Loss: 0.7137796878814697\n",
      "Accuracy: 0.5393999814987183\n",
      "Epoch 12, CIFAR-10 Batch 1:  Loss: 0.6133137345314026\n",
      "Accuracy: 0.556399941444397\n",
      "Epoch 13, CIFAR-10 Batch 1:  Loss: 0.5586276054382324\n",
      "Accuracy: 0.5653999447822571\n",
      "Epoch 14, CIFAR-10 Batch 1:  Loss: 0.5462971925735474\n",
      "Accuracy: 0.558199942111969\n",
      "Epoch 15, CIFAR-10 Batch 1:  Loss: 0.5074853897094727\n",
      "Accuracy: 0.5659999251365662\n",
      "Epoch 16, CIFAR-10 Batch 1:  Loss: 0.4936532974243164\n",
      "Accuracy: 0.5677999258041382\n",
      "Epoch 17, CIFAR-10 Batch 1:  Loss: 0.3972283601760864\n",
      "Accuracy: 0.5751999020576477\n",
      "Epoch 18, CIFAR-10 Batch 1:  Loss: 0.3911442756652832\n",
      "Accuracy: 0.5657999515533447\n",
      "Epoch 19, CIFAR-10 Batch 1:  Loss: 0.34122470021247864\n",
      "Accuracy: 0.5731998682022095\n",
      "Epoch 20, CIFAR-10 Batch 1:  Loss: 0.33652377128601074\n",
      "Accuracy: 0.5643999576568604\n",
      "Epoch 21, CIFAR-10 Batch 1:  Loss: 0.3070255517959595\n",
      "Accuracy: 0.5589999556541443\n",
      "Epoch 22, CIFAR-10 Batch 1:  Loss: 0.2790442109107971\n",
      "Accuracy: 0.5743999481201172\n",
      "Epoch 23, CIFAR-10 Batch 1:  Loss: 0.2725534439086914\n",
      "Accuracy: 0.5525999665260315\n",
      "Epoch 24, CIFAR-10 Batch 1:  Loss: 0.25434860587120056\n",
      "Accuracy: 0.5705999135971069\n",
      "Epoch 25, CIFAR-10 Batch 1:  Loss: 0.2190852165222168\n",
      "Accuracy: 0.5743999481201172\n",
      "Epoch 26, CIFAR-10 Batch 1:  Loss: 0.202646404504776\n",
      "Accuracy: 0.5733999013900757\n",
      "Epoch 27, CIFAR-10 Batch 1:  Loss: 0.19017387926578522\n",
      "Accuracy: 0.5691999197006226\n",
      "Epoch 28, CIFAR-10 Batch 1:  Loss: 0.1800713837146759\n",
      "Accuracy: 0.5709999799728394\n",
      "Epoch 29, CIFAR-10 Batch 1:  Loss: 0.17565064132213593\n",
      "Accuracy: 0.5615999698638916\n",
      "Epoch 30, CIFAR-10 Batch 1:  Loss: 0.1781342774629593\n",
      "Accuracy: 0.5665999054908752\n",
      "Epoch 31, CIFAR-10 Batch 1:  Loss: 0.142154723405838\n",
      "Accuracy: 0.5659999251365662\n",
      "Epoch 32, CIFAR-10 Batch 1:  Loss: 0.11121360212564468\n",
      "Accuracy: 0.5687999725341797\n",
      "Epoch 33, CIFAR-10 Batch 1:  Loss: 0.11179730296134949\n",
      "Accuracy: 0.5705999135971069\n",
      "Epoch 34, CIFAR-10 Batch 1:  Loss: 0.12331725656986237\n",
      "Accuracy: 0.5673999190330505\n",
      "Epoch 35, CIFAR-10 Batch 1:  Loss: 0.09193114936351776\n",
      "Accuracy: 0.5713999271392822\n",
      "Epoch 36, CIFAR-10 Batch 1:  Loss: 0.09929922223091125\n",
      "Accuracy: 0.5635999441146851\n",
      "Epoch 37, CIFAR-10 Batch 1:  Loss: 0.07776331901550293\n",
      "Accuracy: 0.568399965763092\n",
      "Epoch 38, CIFAR-10 Batch 1:  Loss: 0.07904699444770813\n",
      "Accuracy: 0.5679998993873596\n",
      "Epoch 39, CIFAR-10 Batch 1:  Loss: 0.07685399055480957\n",
      "Accuracy: 0.5679999589920044\n",
      "Epoch 40, CIFAR-10 Batch 1:  Loss: 0.08516206592321396\n",
      "Accuracy: 0.5645999312400818\n"
     ]
    }
   ],
   "source": [
    "\"\"\"\n",
    "DON'T MODIFY ANYTHING IN THIS CELL\n",
    "\"\"\"\n",
    "print('Checking the Training on a Single Batch...')\n",
    "with tf.Session() as sess:\n",
    "    # Initializing the variables\n",
    "    sess.run(tf.global_variables_initializer())\n",
    "    \n",
    "    # Training cycle\n",
    "    for epoch in range(epochs):\n",
    "        batch_i = 1\n",
    "        for batch_features, batch_labels in helper.load_preprocess_training_batch(batch_i, batch_size):\n",
    "            train_neural_network(sess, optimizer, keep_probability, batch_features, batch_labels)\n",
    "        print('Epoch {:>2}, CIFAR-10 Batch {}:  '.format(epoch + 1, batch_i), end='')\n",
    "        print_stats(sess, batch_features, batch_labels, cost, accuracy)"
   ]
  },
  {
   "cell_type": "markdown",
   "metadata": {
    "deletable": true,
    "editable": true
   },
   "source": [
    "### Fully Train the Model\n",
    "Now that you got a good accuracy with a single CIFAR-10 batch, try it with all five batches."
   ]
  },
  {
   "cell_type": "code",
   "execution_count": 34,
   "metadata": {
    "collapsed": false,
    "deletable": true,
    "editable": true
   },
   "outputs": [
    {
     "name": "stdout",
     "output_type": "stream",
     "text": [
      "Training...\n",
      "Epoch  1, CIFAR-10 Batch 1:  Loss: 2.069573402404785\n",
      "Accuracy: 0.3237999975681305\n",
      "Epoch  1, CIFAR-10 Batch 2:  Loss: 1.6388301849365234\n",
      "Accuracy: 0.3959999680519104\n",
      "Epoch  1, CIFAR-10 Batch 3:  Loss: 1.3465474843978882\n",
      "Accuracy: 0.444599986076355\n",
      "Epoch  1, CIFAR-10 Batch 4:  Loss: 1.4461288452148438\n",
      "Accuracy: 0.480599969625473\n",
      "Epoch  1, CIFAR-10 Batch 5:  Loss: 1.5164942741394043\n",
      "Accuracy: 0.49039995670318604\n",
      "Epoch  2, CIFAR-10 Batch 1:  Loss: 1.6400115489959717\n",
      "Accuracy: 0.48799997568130493\n",
      "Epoch  2, CIFAR-10 Batch 2:  Loss: 1.3014222383499146\n",
      "Accuracy: 0.5181999802589417\n",
      "Epoch  2, CIFAR-10 Batch 3:  Loss: 1.0976780652999878\n",
      "Accuracy: 0.5130000114440918\n",
      "Epoch  2, CIFAR-10 Batch 4:  Loss: 1.209275484085083\n",
      "Accuracy: 0.5399999618530273\n",
      "Epoch  2, CIFAR-10 Batch 5:  Loss: 1.2608600854873657\n",
      "Accuracy: 0.5429999232292175\n",
      "Epoch  3, CIFAR-10 Batch 1:  Loss: 1.3174080848693848\n",
      "Accuracy: 0.5529999732971191\n",
      "Epoch  3, CIFAR-10 Batch 2:  Loss: 1.1101760864257812\n",
      "Accuracy: 0.5637999773025513\n",
      "Epoch  3, CIFAR-10 Batch 3:  Loss: 0.9657419919967651\n",
      "Accuracy: 0.5577999353408813\n",
      "Epoch  3, CIFAR-10 Batch 4:  Loss: 1.1226356029510498\n",
      "Accuracy: 0.5369999408721924\n",
      "Epoch  3, CIFAR-10 Batch 5:  Loss: 1.1518797874450684\n",
      "Accuracy: 0.5541999340057373\n",
      "Epoch  4, CIFAR-10 Batch 1:  Loss: 1.1686558723449707\n",
      "Accuracy: 0.5753998756408691\n",
      "Epoch  4, CIFAR-10 Batch 2:  Loss: 0.9908316135406494\n",
      "Accuracy: 0.5799999237060547\n",
      "Epoch  4, CIFAR-10 Batch 3:  Loss: 0.7927724123001099\n",
      "Accuracy: 0.5913999080657959\n",
      "Epoch  4, CIFAR-10 Batch 4:  Loss: 1.0096685886383057\n",
      "Accuracy: 0.5825999975204468\n",
      "Epoch  4, CIFAR-10 Batch 5:  Loss: 0.9740955829620361\n",
      "Accuracy: 0.5859999060630798\n",
      "Epoch  5, CIFAR-10 Batch 1:  Loss: 1.0272659063339233\n",
      "Accuracy: 0.5987999439239502\n",
      "Epoch  5, CIFAR-10 Batch 2:  Loss: 0.8699451684951782\n",
      "Accuracy: 0.5939998626708984\n",
      "Epoch  5, CIFAR-10 Batch 3:  Loss: 0.6976888179779053\n",
      "Accuracy: 0.5997998714447021\n",
      "Epoch  5, CIFAR-10 Batch 4:  Loss: 0.8551066517829895\n",
      "Accuracy: 0.612799882888794\n",
      "Epoch  5, CIFAR-10 Batch 5:  Loss: 0.8851850032806396\n",
      "Accuracy: 0.6023999452590942\n",
      "Epoch  6, CIFAR-10 Batch 1:  Loss: 0.9055837392807007\n",
      "Accuracy: 0.6095998883247375\n",
      "Epoch  6, CIFAR-10 Batch 2:  Loss: 0.7301440238952637\n",
      "Accuracy: 0.6013999581336975\n",
      "Epoch  6, CIFAR-10 Batch 3:  Loss: 0.6933296918869019\n",
      "Accuracy: 0.6113998889923096\n",
      "Epoch  6, CIFAR-10 Batch 4:  Loss: 0.776580810546875\n",
      "Accuracy: 0.6003998517990112\n",
      "Epoch  6, CIFAR-10 Batch 5:  Loss: 0.7658454775810242\n",
      "Accuracy: 0.621799886226654\n",
      "Epoch  7, CIFAR-10 Batch 1:  Loss: 0.7902271151542664\n",
      "Accuracy: 0.6239999532699585\n",
      "Epoch  7, CIFAR-10 Batch 2:  Loss: 0.7088409662246704\n",
      "Accuracy: 0.6289998888969421\n",
      "Epoch  7, CIFAR-10 Batch 3:  Loss: 0.6253200769424438\n",
      "Accuracy: 0.6253998875617981\n",
      "Epoch  7, CIFAR-10 Batch 4:  Loss: 0.7064328193664551\n",
      "Accuracy: 0.6113999485969543\n",
      "Epoch  7, CIFAR-10 Batch 5:  Loss: 0.6743741035461426\n",
      "Accuracy: 0.6281998753547668\n",
      "Epoch  8, CIFAR-10 Batch 1:  Loss: 0.7170491218566895\n",
      "Accuracy: 0.6305999159812927\n",
      "Epoch  8, CIFAR-10 Batch 2:  Loss: 0.642461895942688\n",
      "Accuracy: 0.6267999410629272\n",
      "Epoch  8, CIFAR-10 Batch 3:  Loss: 0.5465648174285889\n",
      "Accuracy: 0.6243999004364014\n",
      "Epoch  8, CIFAR-10 Batch 4:  Loss: 0.6382781267166138\n",
      "Accuracy: 0.6299998760223389\n",
      "Epoch  8, CIFAR-10 Batch 5:  Loss: 0.6911232471466064\n",
      "Accuracy: 0.6163999438285828\n",
      "Epoch  9, CIFAR-10 Batch 1:  Loss: 0.6872696876525879\n",
      "Accuracy: 0.6207998991012573\n",
      "Epoch  9, CIFAR-10 Batch 2:  Loss: 0.606340765953064\n",
      "Accuracy: 0.6209999322891235\n",
      "Epoch  9, CIFAR-10 Batch 3:  Loss: 0.4884400963783264\n",
      "Accuracy: 0.6363999247550964\n",
      "Epoch  9, CIFAR-10 Batch 4:  Loss: 0.6881734132766724\n",
      "Accuracy: 0.6139999628067017\n",
      "Epoch  9, CIFAR-10 Batch 5:  Loss: 0.6180399060249329\n",
      "Accuracy: 0.63239985704422\n",
      "Epoch 10, CIFAR-10 Batch 1:  Loss: 0.620731770992279\n",
      "Accuracy: 0.6233999133110046\n",
      "Epoch 10, CIFAR-10 Batch 2:  Loss: 0.5024189949035645\n",
      "Accuracy: 0.6345999240875244\n",
      "Epoch 10, CIFAR-10 Batch 3:  Loss: 0.485446572303772\n",
      "Accuracy: 0.6393998861312866\n",
      "Epoch 10, CIFAR-10 Batch 4:  Loss: 0.6048946976661682\n",
      "Accuracy: 0.619999885559082\n",
      "Epoch 10, CIFAR-10 Batch 5:  Loss: 0.5447103977203369\n",
      "Accuracy: 0.6319998502731323\n",
      "Epoch 11, CIFAR-10 Batch 1:  Loss: 0.5694901943206787\n",
      "Accuracy: 0.6401998996734619\n",
      "Epoch 11, CIFAR-10 Batch 2:  Loss: 0.48043617606163025\n",
      "Accuracy: 0.6411998867988586\n",
      "Epoch 11, CIFAR-10 Batch 3:  Loss: 0.46355685591697693\n",
      "Accuracy: 0.6275998950004578\n",
      "Epoch 11, CIFAR-10 Batch 4:  Loss: 0.4707660377025604\n",
      "Accuracy: 0.6307998895645142\n",
      "Epoch 11, CIFAR-10 Batch 5:  Loss: 0.4904610216617584\n",
      "Accuracy: 0.6353999376296997\n",
      "Epoch 12, CIFAR-10 Batch 1:  Loss: 0.49733492732048035\n",
      "Accuracy: 0.6459999084472656\n",
      "Epoch 12, CIFAR-10 Batch 2:  Loss: 0.4580625295639038\n",
      "Accuracy: 0.6409999132156372\n",
      "Epoch 12, CIFAR-10 Batch 3:  Loss: 0.4247150123119354\n",
      "Accuracy: 0.6361998915672302\n",
      "Epoch 12, CIFAR-10 Batch 4:  Loss: 0.43804991245269775\n",
      "Accuracy: 0.6261998414993286\n",
      "Epoch 12, CIFAR-10 Batch 5:  Loss: 0.41391128301620483\n",
      "Accuracy: 0.6361998319625854\n",
      "Epoch 13, CIFAR-10 Batch 1:  Loss: 0.5005332827568054\n",
      "Accuracy: 0.6305999159812927\n",
      "Epoch 13, CIFAR-10 Batch 2:  Loss: 0.43650490045547485\n",
      "Accuracy: 0.6461999416351318\n",
      "Epoch 13, CIFAR-10 Batch 3:  Loss: 0.383484810590744\n",
      "Accuracy: 0.6547998785972595\n",
      "Epoch 13, CIFAR-10 Batch 4:  Loss: 0.41716450452804565\n",
      "Accuracy: 0.6287999153137207\n",
      "Epoch 13, CIFAR-10 Batch 5:  Loss: 0.4692263603210449\n",
      "Accuracy: 0.6263999342918396\n",
      "Epoch 14, CIFAR-10 Batch 1:  Loss: 0.41537994146347046\n",
      "Accuracy: 0.6449998617172241\n",
      "Epoch 14, CIFAR-10 Batch 2:  Loss: 0.37327125668525696\n",
      "Accuracy: 0.6471998691558838\n",
      "Epoch 14, CIFAR-10 Batch 3:  Loss: 0.34643885493278503\n",
      "Accuracy: 0.6409999132156372\n",
      "Epoch 14, CIFAR-10 Batch 4:  Loss: 0.4084930419921875\n",
      "Accuracy: 0.6209999322891235\n",
      "Epoch 14, CIFAR-10 Batch 5:  Loss: 0.36697912216186523\n",
      "Accuracy: 0.6353999376296997\n",
      "Epoch 15, CIFAR-10 Batch 1:  Loss: 0.382019579410553\n",
      "Accuracy: 0.6483999490737915\n",
      "Epoch 15, CIFAR-10 Batch 2:  Loss: 0.40257424116134644\n",
      "Accuracy: 0.6403999328613281\n",
      "Epoch 15, CIFAR-10 Batch 3:  Loss: 0.3450402617454529\n",
      "Accuracy: 0.6429998874664307\n",
      "Epoch 15, CIFAR-10 Batch 4:  Loss: 0.3566061854362488\n",
      "Accuracy: 0.6347999572753906\n",
      "Epoch 15, CIFAR-10 Batch 5:  Loss: 0.31939929723739624\n",
      "Accuracy: 0.6505998373031616\n",
      "Epoch 16, CIFAR-10 Batch 1:  Loss: 0.41411659121513367\n",
      "Accuracy: 0.6399998664855957\n",
      "Epoch 16, CIFAR-10 Batch 2:  Loss: 0.33073192834854126\n",
      "Accuracy: 0.6395998597145081\n",
      "Epoch 16, CIFAR-10 Batch 3:  Loss: 0.3349652588367462\n",
      "Accuracy: 0.6423999071121216\n",
      "Epoch 16, CIFAR-10 Batch 4:  Loss: 0.3423699736595154\n",
      "Accuracy: 0.6233999133110046\n",
      "Epoch 16, CIFAR-10 Batch 5:  Loss: 0.2944699227809906\n",
      "Accuracy: 0.6371999382972717\n",
      "Epoch 17, CIFAR-10 Batch 1:  Loss: 0.38553449511528015\n",
      "Accuracy: 0.6461998820304871\n",
      "Epoch 17, CIFAR-10 Batch 2:  Loss: 0.32864096760749817\n",
      "Accuracy: 0.6415998935699463\n",
      "Epoch 17, CIFAR-10 Batch 3:  Loss: 0.30556705594062805\n",
      "Accuracy: 0.6429998874664307\n",
      "Epoch 17, CIFAR-10 Batch 4:  Loss: 0.3358112871646881\n",
      "Accuracy: 0.6333999037742615\n",
      "Epoch 17, CIFAR-10 Batch 5:  Loss: 0.29050755500793457\n",
      "Accuracy: 0.6419999003410339\n",
      "Epoch 18, CIFAR-10 Batch 1:  Loss: 0.33788231015205383\n",
      "Accuracy: 0.6445999145507812\n",
      "Epoch 18, CIFAR-10 Batch 2:  Loss: 0.2950593829154968\n",
      "Accuracy: 0.6411998867988586\n",
      "Epoch 18, CIFAR-10 Batch 3:  Loss: 0.31796565651893616\n",
      "Accuracy: 0.6389998197555542\n",
      "Epoch 18, CIFAR-10 Batch 4:  Loss: 0.27169346809387207\n",
      "Accuracy: 0.630599856376648\n",
      "Epoch 18, CIFAR-10 Batch 5:  Loss: 0.3000142574310303\n",
      "Accuracy: 0.6421998739242554\n",
      "Epoch 19, CIFAR-10 Batch 1:  Loss: 0.3371856212615967\n",
      "Accuracy: 0.6319999694824219\n",
      "Epoch 19, CIFAR-10 Batch 2:  Loss: 0.24044379591941833\n",
      "Accuracy: 0.6367998719215393\n",
      "Epoch 19, CIFAR-10 Batch 3:  Loss: 0.24940291047096252\n",
      "Accuracy: 0.644399881362915\n",
      "Epoch 19, CIFAR-10 Batch 4:  Loss: 0.25388070940971375\n",
      "Accuracy: 0.6301999092102051\n",
      "Epoch 19, CIFAR-10 Batch 5:  Loss: 0.2642347514629364\n",
      "Accuracy: 0.629599928855896\n",
      "Epoch 20, CIFAR-10 Batch 1:  Loss: 0.3233295679092407\n",
      "Accuracy: 0.6325998902320862\n",
      "Epoch 20, CIFAR-10 Batch 2:  Loss: 0.22858667373657227\n",
      "Accuracy: 0.6423999071121216\n",
      "Epoch 20, CIFAR-10 Batch 3:  Loss: 0.2527455985546112\n",
      "Accuracy: 0.6365998983383179\n",
      "Epoch 20, CIFAR-10 Batch 4:  Loss: 0.2848973870277405\n",
      "Accuracy: 0.6293999552726746\n",
      "Epoch 20, CIFAR-10 Batch 5:  Loss: 0.25366654992103577\n",
      "Accuracy: 0.6449998617172241\n",
      "Epoch 21, CIFAR-10 Batch 1:  Loss: 0.29154834151268005\n",
      "Accuracy: 0.6339998841285706\n",
      "Epoch 21, CIFAR-10 Batch 2:  Loss: 0.21715116500854492\n",
      "Accuracy: 0.6347998380661011\n",
      "Epoch 21, CIFAR-10 Batch 3:  Loss: 0.2012956440448761\n",
      "Accuracy: 0.6465998888015747\n",
      "Epoch 21, CIFAR-10 Batch 4:  Loss: 0.24273532629013062\n",
      "Accuracy: 0.6261999011039734\n",
      "Epoch 21, CIFAR-10 Batch 5:  Loss: 0.2042742371559143\n",
      "Accuracy: 0.6483998894691467\n",
      "Epoch 22, CIFAR-10 Batch 1:  Loss: 0.2611018121242523\n",
      "Accuracy: 0.6385998725891113\n",
      "Epoch 22, CIFAR-10 Batch 2:  Loss: 0.21783626079559326\n",
      "Accuracy: 0.6399998664855957\n",
      "Epoch 22, CIFAR-10 Batch 3:  Loss: 0.21086713671684265\n",
      "Accuracy: 0.6313998699188232\n",
      "Epoch 22, CIFAR-10 Batch 4:  Loss: 0.2271094024181366\n",
      "Accuracy: 0.6337999105453491\n",
      "Epoch 22, CIFAR-10 Batch 5:  Loss: 0.19809332489967346\n",
      "Accuracy: 0.637799859046936\n",
      "Epoch 23, CIFAR-10 Batch 1:  Loss: 0.267764687538147\n",
      "Accuracy: 0.6281998753547668\n",
      "Epoch 23, CIFAR-10 Batch 2:  Loss: 0.19175948202610016\n",
      "Accuracy: 0.6343998908996582\n",
      "Epoch 23, CIFAR-10 Batch 3:  Loss: 0.19933806359767914\n",
      "Accuracy: 0.6393999457359314\n",
      "Epoch 23, CIFAR-10 Batch 4:  Loss: 0.18295936286449432\n",
      "Accuracy: 0.63319993019104\n",
      "Epoch 23, CIFAR-10 Batch 5:  Loss: 0.17122727632522583\n",
      "Accuracy: 0.6357999444007874\n",
      "Epoch 24, CIFAR-10 Batch 1:  Loss: 0.2792462110519409\n",
      "Accuracy: 0.6373999118804932\n",
      "Epoch 24, CIFAR-10 Batch 2:  Loss: 0.16324904561042786\n",
      "Accuracy: 0.6363999247550964\n",
      "Epoch 24, CIFAR-10 Batch 3:  Loss: 0.1854352355003357\n",
      "Accuracy: 0.6375998258590698\n",
      "Epoch 24, CIFAR-10 Batch 4:  Loss: 0.18147996068000793\n",
      "Accuracy: 0.6381999254226685\n",
      "Epoch 24, CIFAR-10 Batch 5:  Loss: 0.18252906203269958\n",
      "Accuracy: 0.6385998725891113\n",
      "Epoch 25, CIFAR-10 Batch 1:  Loss: 0.2759328782558441\n",
      "Accuracy: 0.6335999369621277\n",
      "Epoch 25, CIFAR-10 Batch 2:  Loss: 0.1364385038614273\n",
      "Accuracy: 0.6321998834609985\n",
      "Epoch 25, CIFAR-10 Batch 3:  Loss: 0.16887730360031128\n",
      "Accuracy: 0.6305999159812927\n",
      "Epoch 25, CIFAR-10 Batch 4:  Loss: 0.18157193064689636\n",
      "Accuracy: 0.6343998908996582\n",
      "Epoch 25, CIFAR-10 Batch 5:  Loss: 0.1949334740638733\n",
      "Accuracy: 0.6321999430656433\n",
      "Epoch 26, CIFAR-10 Batch 1:  Loss: 0.2613146901130676\n",
      "Accuracy: 0.6267999410629272\n",
      "Epoch 26, CIFAR-10 Batch 2:  Loss: 0.15937276184558868\n",
      "Accuracy: 0.6183999180793762\n",
      "Epoch 26, CIFAR-10 Batch 3:  Loss: 0.15036894381046295\n",
      "Accuracy: 0.6369999051094055\n",
      "Epoch 26, CIFAR-10 Batch 4:  Loss: 0.17940890789031982\n",
      "Accuracy: 0.6167998909950256\n",
      "Epoch 26, CIFAR-10 Batch 5:  Loss: 0.18955962359905243\n",
      "Accuracy: 0.6233999133110046\n",
      "Epoch 27, CIFAR-10 Batch 1:  Loss: 0.2813431918621063\n",
      "Accuracy: 0.6219998598098755\n",
      "Epoch 27, CIFAR-10 Batch 2:  Loss: 0.12311512231826782\n",
      "Accuracy: 0.6225998401641846\n",
      "Epoch 27, CIFAR-10 Batch 3:  Loss: 0.1782940924167633\n",
      "Accuracy: 0.6327998638153076\n",
      "Epoch 27, CIFAR-10 Batch 4:  Loss: 0.1750190705060959\n",
      "Accuracy: 0.6235999464988708\n",
      "Epoch 27, CIFAR-10 Batch 5:  Loss: 0.15796464681625366\n",
      "Accuracy: 0.6333999037742615\n",
      "Epoch 28, CIFAR-10 Batch 1:  Loss: 0.28663143515586853\n",
      "Accuracy: 0.6291999220848083\n",
      "Epoch 28, CIFAR-10 Batch 2:  Loss: 0.11794349551200867\n",
      "Accuracy: 0.6335999369621277\n",
      "Epoch 28, CIFAR-10 Batch 3:  Loss: 0.11978127807378769\n",
      "Accuracy: 0.6331998705863953\n",
      "Epoch 28, CIFAR-10 Batch 4:  Loss: 0.18911738693714142\n",
      "Accuracy: 0.6321998834609985\n",
      "Epoch 28, CIFAR-10 Batch 5:  Loss: 0.16550466418266296\n",
      "Accuracy: 0.6369999051094055\n",
      "Epoch 29, CIFAR-10 Batch 1:  Loss: 0.2029658555984497\n",
      "Accuracy: 0.6323999166488647\n",
      "Epoch 29, CIFAR-10 Batch 2:  Loss: 0.15106388926506042\n",
      "Accuracy: 0.6117998957633972\n",
      "Epoch 29, CIFAR-10 Batch 3:  Loss: 0.13654866814613342\n",
      "Accuracy: 0.636199951171875\n",
      "Epoch 29, CIFAR-10 Batch 4:  Loss: 0.18273961544036865\n",
      "Accuracy: 0.6187998652458191\n",
      "Epoch 29, CIFAR-10 Batch 5:  Loss: 0.17392244935035706\n",
      "Accuracy: 0.6297999024391174\n",
      "Epoch 30, CIFAR-10 Batch 1:  Loss: 0.29667821526527405\n",
      "Accuracy: 0.6111999154090881\n",
      "Epoch 30, CIFAR-10 Batch 2:  Loss: 0.12237054109573364\n",
      "Accuracy: 0.6301999092102051\n",
      "Epoch 30, CIFAR-10 Batch 3:  Loss: 0.1333571970462799\n",
      "Accuracy: 0.6357998847961426\n",
      "Epoch 30, CIFAR-10 Batch 4:  Loss: 0.15746760368347168\n",
      "Accuracy: 0.6183999180793762\n",
      "Epoch 30, CIFAR-10 Batch 5:  Loss: 0.16106964647769928\n",
      "Accuracy: 0.6313998699188232\n",
      "Epoch 31, CIFAR-10 Batch 1:  Loss: 0.2353024184703827\n",
      "Accuracy: 0.6125998497009277\n",
      "Epoch 31, CIFAR-10 Batch 2:  Loss: 0.10798907279968262\n",
      "Accuracy: 0.6213998794555664\n",
      "Epoch 31, CIFAR-10 Batch 3:  Loss: 0.13144397735595703\n",
      "Accuracy: 0.6291999220848083\n",
      "Epoch 31, CIFAR-10 Batch 4:  Loss: 0.1535853147506714\n",
      "Accuracy: 0.6247999668121338\n",
      "Epoch 31, CIFAR-10 Batch 5:  Loss: 0.1500055342912674\n",
      "Accuracy: 0.6317998766899109\n",
      "Epoch 32, CIFAR-10 Batch 1:  Loss: 0.2192034274339676\n",
      "Accuracy: 0.615199863910675\n",
      "Epoch 32, CIFAR-10 Batch 2:  Loss: 0.1272064596414566\n",
      "Accuracy: 0.6237999200820923\n",
      "Epoch 32, CIFAR-10 Batch 3:  Loss: 0.10979824513196945\n",
      "Accuracy: 0.6231998801231384\n",
      "Epoch 32, CIFAR-10 Batch 4:  Loss: 0.15851335227489471\n",
      "Accuracy: 0.615399956703186\n",
      "Epoch 32, CIFAR-10 Batch 5:  Loss: 0.13723501563072205\n",
      "Accuracy: 0.6369998455047607\n",
      "Epoch 33, CIFAR-10 Batch 1:  Loss: 0.18147845566272736\n",
      "Accuracy: 0.6181999444961548\n",
      "Epoch 33, CIFAR-10 Batch 2:  Loss: 0.1189633458852768\n",
      "Accuracy: 0.6279999017715454\n",
      "Epoch 33, CIFAR-10 Batch 3:  Loss: 0.10203483700752258\n",
      "Accuracy: 0.6267999410629272\n",
      "Epoch 33, CIFAR-10 Batch 4:  Loss: 0.13510411977767944\n",
      "Accuracy: 0.600399911403656\n",
      "Epoch 33, CIFAR-10 Batch 5:  Loss: 0.13422712683677673\n",
      "Accuracy: 0.6261999011039734\n",
      "Epoch 34, CIFAR-10 Batch 1:  Loss: 0.22069798409938812\n",
      "Accuracy: 0.6121999025344849\n",
      "Epoch 34, CIFAR-10 Batch 2:  Loss: 0.1259211152791977\n",
      "Accuracy: 0.6215999126434326\n",
      "Epoch 34, CIFAR-10 Batch 3:  Loss: 0.0998721569776535\n",
      "Accuracy: 0.623999834060669\n",
      "Epoch 34, CIFAR-10 Batch 4:  Loss: 0.16264308989048004\n",
      "Accuracy: 0.6055998802185059\n",
      "Epoch 34, CIFAR-10 Batch 5:  Loss: 0.1445615142583847\n",
      "Accuracy: 0.6319999098777771\n",
      "Epoch 35, CIFAR-10 Batch 1:  Loss: 0.15414822101593018\n",
      "Accuracy: 0.6195998787879944\n",
      "Epoch 35, CIFAR-10 Batch 2:  Loss: 0.11596515774726868\n",
      "Accuracy: 0.6191999316215515\n",
      "Epoch 35, CIFAR-10 Batch 3:  Loss: 0.12168972194194794\n",
      "Accuracy: 0.6243999004364014\n",
      "Epoch 35, CIFAR-10 Batch 4:  Loss: 0.13669483363628387\n",
      "Accuracy: 0.6029999256134033\n",
      "Epoch 35, CIFAR-10 Batch 5:  Loss: 0.09462390840053558\n",
      "Accuracy: 0.6291998624801636\n",
      "Epoch 36, CIFAR-10 Batch 1:  Loss: 0.20860208570957184\n",
      "Accuracy: 0.6135998964309692\n",
      "Epoch 36, CIFAR-10 Batch 2:  Loss: 0.15385273098945618\n",
      "Accuracy: 0.6149998903274536\n",
      "Epoch 36, CIFAR-10 Batch 3:  Loss: 0.07774683833122253\n",
      "Accuracy: 0.6395999193191528\n",
      "Epoch 36, CIFAR-10 Batch 4:  Loss: 0.12859639525413513\n",
      "Accuracy: 0.6113998889923096\n",
      "Epoch 36, CIFAR-10 Batch 5:  Loss: 0.13705232739448547\n",
      "Accuracy: 0.6267999410629272\n",
      "Epoch 37, CIFAR-10 Batch 1:  Loss: 0.17047569155693054\n",
      "Accuracy: 0.6025999784469604\n",
      "Epoch 37, CIFAR-10 Batch 2:  Loss: 0.10080428421497345\n",
      "Accuracy: 0.6233999133110046\n",
      "Epoch 37, CIFAR-10 Batch 3:  Loss: 0.10931139439344406\n",
      "Accuracy: 0.6235998868942261\n",
      "Epoch 37, CIFAR-10 Batch 4:  Loss: 0.17748036980628967\n",
      "Accuracy: 0.6081998348236084\n",
      "Epoch 37, CIFAR-10 Batch 5:  Loss: 0.12415047734975815\n",
      "Accuracy: 0.6251999139785767\n",
      "Epoch 38, CIFAR-10 Batch 1:  Loss: 0.23885515332221985\n",
      "Accuracy: 0.6123998761177063\n",
      "Epoch 38, CIFAR-10 Batch 2:  Loss: 0.1286783218383789\n",
      "Accuracy: 0.6219999194145203\n",
      "Epoch 38, CIFAR-10 Batch 3:  Loss: 0.11224961280822754\n",
      "Accuracy: 0.6253999471664429\n",
      "Epoch 38, CIFAR-10 Batch 4:  Loss: 0.12884455919265747\n",
      "Accuracy: 0.5907999277114868\n",
      "Epoch 38, CIFAR-10 Batch 5:  Loss: 0.13735543191432953\n",
      "Accuracy: 0.6307998895645142\n",
      "Epoch 39, CIFAR-10 Batch 1:  Loss: 0.2134012132883072\n",
      "Accuracy: 0.602199912071228\n",
      "Epoch 39, CIFAR-10 Batch 2:  Loss: 0.14816518127918243\n",
      "Accuracy: 0.6059998869895935\n",
      "Epoch 39, CIFAR-10 Batch 3:  Loss: 0.06564272940158844\n",
      "Accuracy: 0.6249998807907104\n",
      "Epoch 39, CIFAR-10 Batch 4:  Loss: 0.11164996027946472\n",
      "Accuracy: 0.6149998903274536\n",
      "Epoch 39, CIFAR-10 Batch 5:  Loss: 0.1498352587223053\n",
      "Accuracy: 0.6197999119758606\n",
      "Epoch 40, CIFAR-10 Batch 1:  Loss: 0.16520586609840393\n",
      "Accuracy: 0.6023999452590942\n",
      "Epoch 40, CIFAR-10 Batch 2:  Loss: 0.15202732384204865\n",
      "Accuracy: 0.6101999282836914\n",
      "Epoch 40, CIFAR-10 Batch 3:  Loss: 0.062165286391973495\n",
      "Accuracy: 0.6157999038696289\n",
      "Epoch 40, CIFAR-10 Batch 4:  Loss: 0.10606420040130615\n",
      "Accuracy: 0.5953999161720276\n",
      "Epoch 40, CIFAR-10 Batch 5:  Loss: 0.11649029701948166\n",
      "Accuracy: 0.6197998523712158\n"
     ]
    }
   ],
   "source": [
    "\"\"\"\n",
    "DON'T MODIFY ANYTHING IN THIS CELL\n",
    "\"\"\"\n",
    "save_model_path = './image_classification'\n",
    "\n",
    "print('Training...')\n",
    "with tf.Session() as sess:\n",
    "    # Initializing the variables\n",
    "    sess.run(tf.global_variables_initializer())\n",
    "    \n",
    "    # Training cycle\n",
    "    for epoch in range(epochs):\n",
    "        # Loop over all batches\n",
    "        n_batches = 5\n",
    "        for batch_i in range(1, n_batches + 1):\n",
    "            for batch_features, batch_labels in helper.load_preprocess_training_batch(batch_i, batch_size):\n",
    "                train_neural_network(sess, optimizer, keep_probability, batch_features, batch_labels)\n",
    "            print('Epoch {:>2}, CIFAR-10 Batch {}:  '.format(epoch + 1, batch_i), end='')\n",
    "            print_stats(sess, batch_features, batch_labels, cost, accuracy)\n",
    "            \n",
    "    # Save Model\n",
    "    saver = tf.train.Saver()\n",
    "    save_path = saver.save(sess, save_model_path)"
   ]
  },
  {
   "cell_type": "markdown",
   "metadata": {
    "deletable": true,
    "editable": true
   },
   "source": [
    "# Checkpoint\n",
    "The model has been saved to disk.\n",
    "## Test Model\n",
    "Test your model against the test dataset.  This will be your final accuracy. You should have an accuracy greater than 50%. If you don't, keep tweaking the model architecture and parameters."
   ]
  },
  {
   "cell_type": "code",
   "execution_count": 35,
   "metadata": {
    "collapsed": false,
    "deletable": true,
    "editable": true
   },
   "outputs": [
    {
     "name": "stdout",
     "output_type": "stream",
     "text": [
      "Testing Accuracy: 0.6257911392405063\n",
      "\n"
     ]
    },
    {
     "data": {
      "image/png": "[encoded data removed]",
      "text/plain": [
       "<matplotlib.figure.Figure at 0x7f7bd076ea20>"
      ]
     },
     "metadata": {
      "image/png": {
       "height": 319,
       "width": 355
      }
     },
     "output_type": "display_data"
    }
   ],
   "source": [
    "\"\"\"\n",
    "DON'T MODIFY ANYTHING IN THIS CELL\n",
    "\"\"\"\n",
    "%matplotlib inline\n",
    "%config InlineBackend.figure_format = 'retina'\n",
    "\n",
    "import tensorflow as tf\n",
    "import pickle\n",
    "import helper\n",
    "import random\n",
    "\n",
    "# Set batch size if not already set\n",
    "try:\n",
    "    if batch_size:\n",
    "        pass\n",
    "except NameError:\n",
    "    batch_size = 64\n",
    "\n",
    "save_model_path = './image_classification'\n",
    "n_samples = 4\n",
    "top_n_predictions = 3\n",
    "\n",
    "def test_model():\n",
    "    \"\"\"\n",
    "    Test the saved model against the test dataset\n",
    "    \"\"\"\n",
    "\n",
    "    test_features, test_labels = pickle.load(open('preprocess_training.p', mode='rb'))\n",
    "    loaded_graph = tf.Graph()\n",
    "\n",
    "    with tf.Session(graph=loaded_graph) as sess:\n",
    "        # Load model\n",
    "        loader = tf.train.import_meta_graph(save_model_path + '.meta')\n",
    "        loader.restore(sess, save_model_path)\n",
    "\n",
    "        # Get Tensors from loaded model\n",
    "        loaded_x = loaded_graph.get_tensor_by_name('x:0')\n",
    "        loaded_y = loaded_graph.get_tensor_by_name('y:0')\n",
    "        loaded_keep_prob = loaded_graph.get_tensor_by_name('keep_prob:0')\n",
    "        loaded_logits = loaded_graph.get_tensor_by_name('logits:0')\n",
    "        loaded_acc = loaded_graph.get_tensor_by_name('accuracy:0')\n",
    "        \n",
    "        # Get accuracy in batches for memory limitations\n",
    "        test_batch_acc_total = 0\n",
    "        test_batch_count = 0\n",
    "        \n",
    "        for train_feature_batch, train_label_batch in helper.batch_features_labels(test_features, test_labels, batch_size):\n",
    "            test_batch_acc_total += sess.run(\n",
    "                loaded_acc,\n",
    "                feed_dict={loaded_x: train_feature_batch, loaded_y: train_label_batch, loaded_keep_prob: 1.0})\n",
    "            test_batch_count += 1\n",
    "\n",
    "        print('Testing Accuracy: {}\\n'.format(test_batch_acc_total/test_batch_count))\n",
    "\n",
    "        # Print Random Samples\n",
    "        random_test_features, random_test_labels = tuple(zip(*random.sample(list(zip(test_features, test_labels)), n_samples)))\n",
    "        random_test_predictions = sess.run(\n",
    "            tf.nn.top_k(tf.nn.softmax(loaded_logits), top_n_predictions),\n",
    "            feed_dict={loaded_x: random_test_features, loaded_y: random_test_labels, loaded_keep_prob: 1.0})\n",
    "        helper.display_image_predictions(random_test_features, random_test_labels, random_test_predictions)\n",
    "\n",
    "\n",
    "test_model()"
   ]
  },
  {
   "cell_type": "markdown",
   "metadata": {
    "deletable": true,
    "editable": true
   },
   "source": [
    "## Why 50-70% Accuracy?\n",
    "You might be wondering why you can't get an accuracy any higher. First things first, 50% isn't bad for a simple CNN.  Pure guessing would get you 10% accuracy. However, you might notice people are getting scores [well above 70%](http://rodrigob.github.io/are_we_there_yet/build/classification_datasets_results.html#43494641522d3130).  That's because we haven't taught you all there is to know about neural networks. We still need to cover a few more techniques.\n",
    "## Submitting This Project\n",
    "When submitting this project, make sure to run all the cells before saving the notebook.  Save the notebook file as \"dlnd_image_classification.ipynb\" and save it as a HTML file under \"File\" -> \"Download as\".  Include the \"helper.py\" and \"problem_unittests.py\" files in your submission."
   ]
  }
 ],
 "metadata": {
  "kernelspec": {
   "display_name": "Python 3",
   "language": "python",
   "name": "python3"
  },
  "language_info": {
   "codemirror_mode": {
    "name": "ipython",
    "version": 3
   },
   "file_extension": ".py",
   "mimetype": "text/x-python",
   "name": "python",
   "nbconvert_exporter": "python",
   "pygments_lexer": "ipython3",
   "version": "3.5.2"
  },
  "widgets": {
   "state": {},
   "version": "1.1.2"
  }
 },
 "nbformat": 4,
 "nbformat_minor": 0
}
